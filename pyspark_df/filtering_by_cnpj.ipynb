{
 "cells": [
  {
   "cell_type": "code",
   "execution_count": null,
   "metadata": {},
   "outputs": [],
   "source": [
    "cnpjs = [c[0] for c in df_medicine_with_cnae_and_anvisa.select(\"cnpj\").distinct().collect()]\n",
    "num_of_cnpjs = ceil(2500 / len(cnpjs)) # round to higher number\n",
    "\n",
    "ids = []\n",
    "for cnpj in cnpjs:\n",
    "    if num_of_cnpjs > 1:\n",
    "        id_prods = [id[0] for id in df_medicine_with_cnae_and_anvisa.select(\"id_produto\").filter(f\"cnpj = {cnpj}\").head(num_of_cnpjs)]\n",
    "    else:\n",
    "        id_prods = [id[0] for id in df_medicine_with_cnae_and_anvisa.select(\"id_produto\").filter(f\"cnpj = {cnpj}\").head(1)]\n",
    "        \n",
    "    for id in id_prods:\n",
    "        ids.append(id)\n",
    "\n",
    "ids_str = \"\"\n",
    "for i in ids:\n",
    "    if i != ids[-1]:\n",
    "        ids_str += str(i) + \",\"\n",
    "    else:\n",
    "        ids_str += str(i)"
   ]
  },
  {
   "cell_type": "code",
   "execution_count": null,
   "metadata": {},
   "outputs": [],
   "source": [
    "ids_str"
   ]
  },
  {
   "cell_type": "code",
   "execution_count": null,
   "metadata": {},
   "outputs": [],
   "source": [
    "df_medicine_with_cnae_and_anvisa.filter(f\"id_produto IN ({ids_str})\").show()"
   ]
  },
  {
   "cell_type": "code",
   "execution_count": null,
   "metadata": {},
   "outputs": [],
   "source": [
    "df_medicine_with_cnae_and_anvisa.filter(f\"id_produto IN ({ids_str})\").count()"
   ]
  }
 ],
 "metadata": {
  "language_info": {
   "name": "python"
  },
  "orig_nbformat": 4
 },
 "nbformat": 4,
 "nbformat_minor": 2
}
