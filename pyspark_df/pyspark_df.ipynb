{
 "cells": [
  {
   "cell_type": "code",
   "execution_count": null,
   "metadata": {},
   "outputs": [],
   "source": [
    "import sqlalchemy\n",
    "from sqlalchemy.engine import URL\n",
    "from sqlalchemy import create_engine, text\n",
    "import findspark\n",
    "findspark.init()\n",
    "import pyspark\n",
    "from pyspark.sql import SparkSession\n",
    "from pyspark.sql.types import StructType, StructField, StringType, IntegerType\n",
    "import boto3\n",
    "import ast\n",
    "from math import ceil\n",
    "import gc"
   ]
  },
  {
   "cell_type": "code",
   "execution_count": null,
   "metadata": {},
   "outputs": [],
   "source": [
    "SECRET_NAME = \"database_tcepb\"\n",
    "REGION_NAME = \"sa-east-1\"\n",
    "\n",
    "# Create a Secrets Manager client\n",
    "session = boto3.session.Session()\n",
    "client = session.client(\n",
    "    service_name = \"secretsmanager\",\n",
    "    region_name = REGION_NAME\n",
    ")\n",
    "\n",
    "get_secret_value_response = client.get_secret_value(\n",
    "    SecretId = SECRET_NAME\n",
    ")\n",
    "SERVER_TRIBUNAL = ast.literal_eval(get_secret_value_response[\"SecretString\"])[\"host\"] + \", \" + ast.literal_eval(get_secret_value_response[\"SecretString\"])[\"port\"]\n",
    "DB_TRIBUNAL = ast.literal_eval(get_secret_value_response[\"SecretString\"])[\"dbname\"]\n",
    "USERNAME = ast.literal_eval(get_secret_value_response[\"SecretString\"])[\"username\"]\n",
    "PASSWORD = ast.literal_eval(get_secret_value_response[\"SecretString\"])[\"password\"]"
   ]
  },
  {
   "cell_type": "code",
   "execution_count": null,
   "metadata": {},
   "outputs": [],
   "source": [
    "string_connection = \"DRIVER={SQL Server};\" + f\"SERVER={SERVER_TRIBUNAL};DATABASE={DB_TRIBUNAL};UID={USERNAME};PWD={PASSWORD}\"\n",
    "url = URL.create(\"mssql+pyodbc\", query={\"odbc_connect\": string_connection})\n",
    "engine = create_engine(url) # connection engine"
   ]
  },
  {
   "cell_type": "code",
   "execution_count": null,
   "metadata": {},
   "outputs": [],
   "source": [
    "with open(\"main_query.sql\", \"r\") as f:\n",
    "    main_query = f.read()\n",
    "\n",
    "with open(\"filter_medicine_with_cnae&anvisa.sql\", \"r\") as f:\n",
    "    filter_medicine_with_cnae_and_anvisa = f.read()\n",
    "with open(\"filter_medicine_with_cnae&NOTanvisa.sql\", \"r\") as f:\n",
    "    filter_medicine_with_cnae_and_NOTanvisa = f.read()\n",
    "with open(\"filter_medicine_with_NOTcnae&anvisa.sql\", \"r\") as f:\n",
    "    filter_medicine_with_NOTcnae_and_anvisa = f.read()\n",
    "with open(\"filter_medicine_with_NOTcnae&NOTanvisa.sql\", \"r\") as f:\n",
    "    filter_medicine_with_NOTcnae_and_NOTanvisa = f.read()\n",
    "\n",
    "with open(\"filter_hospital_material_with_cnae.sql\", \"r\") as f:\n",
    "    filter_hospital_material_with_cnae = f.read()\n",
    "with open(\"filter_hospital_material_with_NOTcnae.sql\", \"r\") as f:\n",
    "    filter_hospital_material_with_NOTcnae = f.read()\n",
    "\n",
    "with open(\"filter_others_with_cnae.sql\", \"r\") as f:\n",
    "    filter_others_with_cnae = f.read()\n",
    "with open(\"filter_others_with_NOTcnae.sql\", \"r\") as f:\n",
    "    filter_others_with_NOTcnae = f.read()\n",
    "\n",
    "dict_filters = { # organize filters\n",
    "    \"medicine\": {\n",
    "        \"cnae&anvisa\": filter_medicine_with_cnae_and_anvisa,\n",
    "        \"cnae&NOTanvisa\": filter_medicine_with_cnae_and_NOTanvisa,\n",
    "        \"NOTcnae&anvisa\": filter_medicine_with_NOTcnae_and_anvisa,\n",
    "        \"NOTcnae&NOTanvisa\": filter_medicine_with_NOTcnae_and_NOTanvisa\n",
    "    },\n",
    "    \"hospital_material\": {\n",
    "        \"cnae\": filter_hospital_material_with_cnae,\n",
    "        \"NOTcnae\": filter_hospital_material_with_NOTcnae\n",
    "    },\n",
    "    \"others\": {\n",
    "        \"cnae\": filter_others_with_cnae,\n",
    "        \"NOTcnae\": filter_others_with_NOTcnae\n",
    "    }\n",
    "}"
   ]
  },
  {
   "cell_type": "code",
   "execution_count": null,
   "metadata": {},
   "outputs": [],
   "source": [
    "def execute_query(engine: sqlalchemy.engine.base.Engine, query: str) -> list[tuple]:\n",
    "    \"\"\"\n",
    "    Execute input query using input engine and return the rows result as a list of tuples.\n",
    "    \"\"\"\n",
    "    with engine.begin() as conn:\n",
    "        result = conn.execute(text(query))\n",
    "        rows = []\n",
    "        for r in result:\n",
    "            rows.append(tuple(r))\n",
    "    return rows"
   ]
  },
  {
   "cell_type": "code",
   "execution_count": null,
   "metadata": {},
   "outputs": [],
   "source": [
    "data_medicine_with_cnae_and_anvisa = execute_query(engine, main_query + dict_filters[\"medicine\"][\"cnae&anvisa\"])\n",
    "data_medicine_with_cnae_and_NOTanvisa = execute_query(engine, main_query + dict_filters[\"medicine\"][\"cnae&NOTanvisa\"])\n",
    "data_medicine_with_NOTcnae_and_anvisa = execute_query(engine, main_query + dict_filters[\"medicine\"][\"NOTcnae&anvisa\"])\n",
    "data_medicine_with_NOTcnae_and_NOTanvisa = execute_query(engine, main_query + dict_filters[\"medicine\"][\"NOTcnae&NOTanvisa\"])\n",
    "\n",
    "data_hospital_material_with_cnae = execute_query(engine, main_query + dict_filters[\"hospital_material\"][\"cnae\"])\n",
    "data_hospital_material_with_NOTcnae = execute_query(engine, main_query + dict_filters[\"hospital_material\"][\"NOTcnae\"])\n",
    "\n",
    "data_others_with_cnae = execute_query(engine, main_query + dict_filters[\"others\"][\"cnae\"])\n",
    "data_others_with_NOTcnae = execute_query(engine, main_query + dict_filters[\"others\"][\"NOTcnae\"])"
   ]
  },
  {
   "cell_type": "code",
   "execution_count": null,
   "metadata": {},
   "outputs": [],
   "source": [
    "schema = StructType([\n",
    "    StructField(name=\"id_produto\", dataType=IntegerType(), nullable=False),\n",
    "    StructField(name=\"codigo_cfop\", dataType=StringType(), nullable=True),\n",
    "    StructField(name=\"codigo_cest\", dataType=StringType(), nullable=True),\n",
    "    StructField(name=\"codigo_ncm\", dataType=StringType(), nullable=True),\n",
    "    StructField(name=\"codigo_ean\", dataType=StringType(), nullable=True),\n",
    "    StructField(name=\"descricao\", dataType=StringType(), nullable=False),\n",
    "    StructField(name=\"unidade\", dataType=StringType(), nullable=True),\n",
    "    StructField(name=\"id_medicamento\", dataType=IntegerType(), nullable=False),\n",
    "    StructField(name=\"cod_anvisa\", dataType=StringType(), nullable=True),\n",
    "    StructField(name=\"id_combustivel\", dataType=IntegerType(), nullable=False),\n",
    "    StructField(name=\"codigo_anp\", dataType=StringType(), nullable=True),\n",
    "    StructField(name=\"cnpj\", dataType=StringType(), nullable=True),\n",
    "    StructField(name=\"razao_social\", dataType=StringType(), nullable=True),\n",
    "    StructField(name=\"nome_da_atividade_economica\", dataType=StringType(), nullable=True),\n",
    "    StructField(name=\"cnae_fiscal\", dataType=StringType(), nullable=True),\n",
    "    StructField(name=\"cnae_secundaria\", dataType=StringType(), nullable=True)\n",
    "])"
   ]
  },
  {
   "cell_type": "code",
   "execution_count": null,
   "metadata": {},
   "outputs": [],
   "source": [
    "spark = SparkSession.builder \\\n",
    "    .appName(\"training_base\") \\\n",
    "    .config(\"spark.executor.memory\", \"8G\") \\\n",
    "    .config(\"spark.executor.cores\", \"4\") \\\n",
    "    .config(\"spark.driver.memory\", \"60G\") \\\n",
    "    .master(\"local[*]\") \\\n",
    "    .getOrCreate()"
   ]
  },
  {
   "cell_type": "code",
   "execution_count": null,
   "metadata": {},
   "outputs": [],
   "source": [
    "df_medicine_with_cnae_and_anvisa = spark.createDataFrame(data=data_medicine_with_cnae_and_anvisa, schema=schema)\n",
    "df_medicine_with_cnae_and_NOTanvisa = spark.createDataFrame(data=data_medicine_with_cnae_and_NOTanvisa, schema=schema)\n",
    "df_medicine_with_NOTcnae_and_anvisa = spark.createDataFrame(data=data_medicine_with_NOTcnae_and_anvisa, schema=schema)\n",
    "df_medicine_with_NOTcnae_and_NOTanvisa = spark.createDataFrame(data=data_medicine_with_NOTcnae_and_NOTanvisa, schema=schema)\n",
    "\n",
    "df_hospital_material_with_cnae = spark.createDataFrame(data=data_hospital_material_with_cnae, schema=schema)\n",
    "df_hospital_material_with_NOTcnae = spark.createDataFrame(data=data_hospital_material_with_NOTcnae, schema=schema)\n",
    "\n",
    "df_others_with_cnae = spark.createDataFrame(data=data_others_with_cnae, schema=schema)\n",
    "df_others_with_NOTcnae = spark.createDataFrame(data=data_others_with_NOTcnae, schema=schema)"
   ]
  },
  {
   "cell_type": "code",
   "execution_count": null,
   "metadata": {},
   "outputs": [],
   "source": [
    "del data_medicine_with_cnae_and_anvisa, data_medicine_with_cnae_and_NOTanvisa, data_medicine_with_NOTcnae_and_anvisa, data_medicine_with_NOTcnae_and_NOTanvisa\n",
    "del data_hospital_material_with_cnae, data_hospital_material_with_NOTcnae, data_others_with_cnae, data_others_with_NOTcnae\n",
    "gc.collect()"
   ]
  },
  {
   "cell_type": "code",
   "execution_count": null,
   "metadata": {},
   "outputs": [],
   "source": [
    "print(f\"Medicine with cnae and anvisa -> shape: {df_medicine_with_cnae_and_anvisa.count()},{len(df_medicine_with_cnae_and_anvisa.columns)}\")\n",
    "print(f\"Medicine with cnae and without anvisa -> shape: {df_medicine_with_cnae_and_NOTanvisa.count()},{len(df_medicine_with_cnae_and_NOTanvisa.columns)}\")\n",
    "print(f\"Medicine without cnae and with anvisa -> shape: {df_medicine_with_NOTcnae_and_anvisa.count()},{len(df_medicine_with_NOTcnae_and_anvisa.columns)}\")\n",
    "print(f\"Medicine without cnae and anvisa -> shape: {df_medicine_with_NOTcnae_and_NOTanvisa.count()},{len(df_medicine_with_NOTcnae_and_NOTanvisa.columns)}\\n\")\n",
    "\n",
    "print(f\"Hospital material with cnae -> shape: {df_hospital_material_with_cnae.count()},{len(df_hospital_material_with_cnae.columns)}\")\n",
    "print(f\"Hospital material without cnae -> shape: {df_hospital_material_with_NOTcnae.count()},{len(df_hospital_material_with_NOTcnae.columns)}\\n\")\n",
    "\n",
    "print(f\"Others with cnae -> shape: {df_others_with_cnae.count()},{len(df_others_with_cnae.columns)}\")\n",
    "print(f\"Others without cnae -> shape: {df_others_with_NOTcnae.count()},{len(df_others_with_NOTcnae.columns)}\")"
   ]
  },
  {
   "cell_type": "code",
   "execution_count": null,
   "metadata": {},
   "outputs": [],
   "source": [
    "# df_medicine_with_cnae_and_anvisa = df_medicine_with_cnae_and_anvisa.toPandas()\n",
    "# df_medicine_with_cnae_and_NOTanvisa = df_medicine_with_cnae_and_NOTanvisa.toPandas()\n",
    "# df_medicine_with_NOTcnae_and_anvisa = df_medicine_with_NOTcnae_and_anvisa.toPandas()\n",
    "# df_medicine_with_NOTcnae_and_NOTanvisa = df_medicine_with_NOTcnae_and_NOTanvisa.toPandas()\n",
    "\n",
    "# df_hospital_material_with_cnae = df_hospital_material_with_cnae.toPandas()\n",
    "# df_hospital_material_with_NOTcnae = df_hospital_material_with_NOTcnae.toPandas()\n",
    "\n",
    "# df_others_with_cnae = df_others_with_cnae.toPandas()\n",
    "# df_others_with_NOTcnae = df_others_with_NOTcnae.toPandas()"
   ]
  },
  {
   "cell_type": "code",
   "execution_count": null,
   "metadata": {},
   "outputs": [],
   "source": [
    "def filter_by_cnpjs(df: pyspark.sql.dataframe.DataFrame, limit: int) -> pyspark.sql.dataframe.DataFrame:\n",
    "    \"\"\"\n",
    "    Get a pyspark dataframe and from the limit informed collect a quantity of products per cnpj\n",
    "    and return a close number of rows from the limit.\n",
    "    \"\"\"\n",
    "    if df.count() <= limit:\n",
    "        return df\n",
    "    else:\n",
    "        cnpjs = [c[0] for c in df.select(\"cnpj\").distinct().collect()]\n",
    "        qtd_per_cnpj = ceil(limit/len(cnpjs)) # round to higher number\n",
    "        id_produtos = []\n",
    "        if qtd_per_cnpj <= 1: # if the number of cnpjs is equal or higher them the limit\n",
    "            for c in cnpjs:\n",
    "                id_prod = [i[0] for i in df.select(\"id_produto\").filter(f\"cnpj = {c}\").head(1)]\n",
    "                for id in id_prod:\n",
    "                    id_produtos.append(id)\n",
    "        else:\n",
    "            for c in cnpjs:\n",
    "                id_prod = [i[0] for i in df.select(\"id_produto\").filter(f\"cnpj = {c}\").head(qtd_per_cnpj)]\n",
    "                for id in id_prod:\n",
    "                    id_produtos.append(id)\n",
    "\n",
    "        id_produtos_str = \"\"\n",
    "        for id in id_produtos:\n",
    "            if id != id_produtos[-1]:\n",
    "                id_produtos_str += str(id) + \",\"\n",
    "            else:\n",
    "                id_produtos_str += str(id)\n",
    "        \n",
    "        return df.filter(f\"id_produto IN ({id_produtos_str})\")"
   ]
  },
  {
   "cell_type": "code",
   "execution_count": null,
   "metadata": {},
   "outputs": [],
   "source": [
    "spark.catalog.clearCache()\n",
    "df_medicine_with_cnae_and_anvisa = filter_by_cnpjs(df_medicine_with_cnae_and_anvisa, 2500)\n",
    "spark.catalog.clearCache()\n",
    "df_medicine_with_cnae_and_NOTanvisa = filter_by_cnpjs(df_medicine_with_cnae_and_NOTanvisa, 4194)\n",
    "spark.catalog.clearCache()\n",
    "df_medicine_with_NOTcnae_and_anvisa = filter_by_cnpjs(df_medicine_with_NOTcnae_and_anvisa, 2500)\n",
    "spark.catalog.clearCache()\n",
    "df_medicine_with_NOTcnae_and_NOTanvisa = filter_by_cnpjs(df_medicine_with_NOTcnae_and_NOTanvisa, 2500)\n",
    "spark.catalog.clearCache()\n",
    "\n",
    "df_hospital_material_with_cnae = filter_by_cnpjs(df_hospital_material_with_cnae, 5000)\n",
    "spark.catalog.clearCache()\n",
    "df_hospital_material_with_NOTcnae = filter_by_cnpjs(df_hospital_material_with_NOTcnae, 5000)\n",
    "spark.catalog.clearCache()\n",
    "\n",
    "df_others_with_cnae = filter_by_cnpjs(df_others_with_cnae, 5000)\n",
    "spark.catalog.clearCache()\n",
    "df_others_with_NOTcnae = filter_by_cnpjs(df_others_with_NOTcnae, 5000)\n",
    "spark.catalog.clearCache()"
   ]
  },
  {
   "cell_type": "code",
   "execution_count": null,
   "metadata": {},
   "outputs": [],
   "source": [
    "print(f\"Medicine with cnae and anvisa -> shape: {df_medicine_with_cnae_and_anvisa.count()},{len(df_medicine_with_cnae_and_anvisa.columns)}\")\n",
    "print(f\"Medicine with cnae and without anvisa -> shape: {df_medicine_with_cnae_and_NOTanvisa.count()},{len(df_medicine_with_cnae_and_NOTanvisa.columns)}\")\n",
    "print(f\"Medicine without cnae and with anvisa -> shape: {df_medicine_with_NOTcnae_and_anvisa.count()},{len(df_medicine_with_NOTcnae_and_anvisa.columns)}\")\n",
    "print(f\"Medicine without cnae and anvisa -> shape: {df_medicine_with_NOTcnae_and_NOTanvisa.count()},{len(df_medicine_with_NOTcnae_and_NOTanvisa.columns)}\\n\")\n",
    "\n",
    "print(f\"Hospital material with cnae -> shape: {df_hospital_material_with_cnae.count()},{len(df_hospital_material_with_cnae.columns)}\")\n",
    "print(f\"Hospital material without cnae -> shape: {df_hospital_material_with_NOTcnae.count()},{len(df_hospital_material_with_NOTcnae.columns)}\\n\")\n",
    "\n",
    "print(f\"Others with cnae -> shape: {df_others_with_cnae.count()},{len(df_others_with_cnae.columns)}\")\n",
    "print(f\"Others without cnae -> shape: {df_others_with_NOTcnae.count()},{len(df_others_with_NOTcnae.columns)}\")"
   ]
  }
 ],
 "metadata": {
  "kernelspec": {
   "display_name": "Python 3",
   "language": "python",
   "name": "python3"
  },
  "language_info": {
   "codemirror_mode": {
    "name": "ipython",
    "version": 3
   },
   "file_extension": ".py",
   "mimetype": "text/x-python",
   "name": "python",
   "nbconvert_exporter": "python",
   "pygments_lexer": "ipython3",
   "version": "3.9.0"
  },
  "orig_nbformat": 4
 },
 "nbformat": 4,
 "nbformat_minor": 2
}
