{
 "cells": [
  {
   "cell_type": "code",
   "execution_count": 1,
   "metadata": {},
   "outputs": [],
   "source": [
    "import pandas as pd\n",
    "from sqlalchemy.engine import URL\n",
    "from sqlalchemy import create_engine, text\n",
    "import boto3\n",
    "import ast"
   ]
  },
  {
   "attachments": {},
   "cell_type": "markdown",
   "metadata": {},
   "source": [
    "## Connect to DataBase"
   ]
  },
  {
   "cell_type": "code",
   "execution_count": 2,
   "metadata": {},
   "outputs": [],
   "source": [
    "secret_name = \"database_tcepb\"\n",
    "region_name = \"sa-east-1\"\n",
    "\n",
    "# Create a Secrets Manager client\n",
    "session = boto3.session.Session()\n",
    "client = session.client(\n",
    "    service_name=\"secretsmanager\",\n",
    "    region_name=region_name\n",
    ")\n",
    "\n",
    "get_secret_value_response = client.get_secret_value(\n",
    "    SecretId=secret_name\n",
    ")\n",
    "SERVER_TRIBUNAL = ast.literal_eval(get_secret_value_response[\"SecretString\"])[\"host\"] + \", \" + ast.literal_eval(get_secret_value_response[\"SecretString\"])[\"port\"]\n",
    "DB_TRIBUNAL = ast.literal_eval(get_secret_value_response[\"SecretString\"])[\"dbname\"]\n",
    "USERNAME = ast.literal_eval(get_secret_value_response[\"SecretString\"])[\"username\"]\n",
    "PASSWORD = ast.literal_eval(get_secret_value_response[\"SecretString\"])[\"password\"]"
   ]
  },
  {
   "cell_type": "code",
   "execution_count": 3,
   "metadata": {},
   "outputs": [],
   "source": [
    "string_connection = \"DRIVER={SQL Server};\" + f\"SERVER={SERVER_TRIBUNAL};DATABASE={DB_TRIBUNAL};UID={USERNAME};PWD={PASSWORD}\"\n",
    "url = URL.create(\"mssql+pyodbc\", query={\"odbc_connect\": string_connection})\n",
    "engine = create_engine(url) # connection engine"
   ]
  },
  {
   "attachments": {},
   "cell_type": "markdown",
   "metadata": {},
   "source": [
    "## Read query with filters"
   ]
  },
  {
   "cell_type": "code",
   "execution_count": 4,
   "metadata": {},
   "outputs": [],
   "source": [
    "with open(\"main_query.sql\", \"r\") as f:\n",
    "    main_query = f.read()\n",
    "\n",
    "with open(\"filter_medicine_with_cnae&anvisa.sql\", \"r\") as f:\n",
    "    filter_medicine_with_cnae_and_anvisa = f.read()\n",
    "with open(\"filter_medicine_with_cnae&NOTanvisa.sql\", \"r\") as f:\n",
    "    filter_medicine_with_cnae_and_NOTanvisa = f.read()\n",
    "with open(\"filter_medicine_with_NOTcnae&anvisa.sql\", \"r\") as f:\n",
    "    filter_medicine_with_NOTcnae_and_anvisa = f.read()\n",
    "with open(\"filter_medicine_with_NOTcnae&NOTanvisa.sql\", \"r\") as f:\n",
    "    filter_medicine_with_NOTcnae_and_NOTanvisa = f.read()\n",
    "\n",
    "with open(\"filter_hospital_material_with_cnae.sql\", \"r\") as f:\n",
    "    filter_hospital_material_with_cnae = f.read()\n",
    "with open(\"filter_hospital_material_with_NOTcnae.sql\", \"r\") as f:\n",
    "    filter_hospital_material_with_NOTcnae = f.read()\n",
    "\n",
    "with open(\"filter_others_with_cnae.sql\", \"r\") as f:\n",
    "    filter_others_with_cnae = f.read()\n",
    "with open(\"filter_others_with_NOTcnae.sql\", \"r\") as f:\n",
    "    filter_others_with_NOTcnae = f.read()\n",
    "\n",
    "dict_filters = { # organize filters\n",
    "    \"medicine\": {\n",
    "        \"cnae&anvisa\": filter_medicine_with_cnae_and_anvisa,\n",
    "        \"cnae&NOTanvisa\": filter_medicine_with_cnae_and_NOTanvisa,\n",
    "        \"NOTcnae&anvisa\": filter_medicine_with_NOTcnae_and_anvisa,\n",
    "        \"NOTcnae&NOTanvisa\": filter_medicine_with_NOTcnae_and_NOTanvisa\n",
    "    },\n",
    "    \"hospital_material\": {\n",
    "        \"cnae\": filter_hospital_material_with_cnae,\n",
    "        \"NOTcnae\": filter_hospital_material_with_NOTcnae\n",
    "    },\n",
    "    \"others\": {\n",
    "        \"cnae\": filter_others_with_cnae,\n",
    "        \"NOTcnae\": filter_others_with_NOTcnae\n",
    "    }\n",
    "}"
   ]
  },
  {
   "cell_type": "code",
   "execution_count": 5,
   "metadata": {},
   "outputs": [],
   "source": [
    "dtype = {\n",
    "    \"id_produto\" : \"int32\",\n",
    "    \"codigo_cfop\" : \"string\",\n",
    "    \"codigo_cest\" : \"string\",\n",
    "    \"codigo_ncm\" : \"string\",\n",
    "    \"codigo_ean\" : \"string\",\n",
    "    \"descricao\" : \"string\",\n",
    "    \"unidade\" : \"string\",\n",
    "    \"id_medicamento\" : \"int32\",\n",
    "    \"cod_anvisa\" : \"string\",\n",
    "    \"id_combustivel\" : \"int32\",\n",
    "    \"codigo_anp\" : \"string\",\n",
    "    \"cnpj\" : \"string\",\n",
    "    \"razao_social\" : \"string\",\n",
    "    \"nome_da_atividade_economica\" : \"string\",\n",
    "    \"cnae_fiscal\" : \"int32\",\n",
    "    \"cnae_secundaria\" : \"string\"\n",
    "}"
   ]
  },
  {
   "attachments": {},
   "cell_type": "markdown",
   "metadata": {},
   "source": [
    "## Run Queries"
   ]
  },
  {
   "cell_type": "code",
   "execution_count": 6,
   "metadata": {},
   "outputs": [],
   "source": [
    "with engine.begin() as conn: # get query results into pandas DataFrame\n",
    "    df_medicine_with_cnae_and_anvisa = pd.read_sql_query(sql=text(main_query + dict_filters[\"medicine\"][\"cnae&anvisa\"]), con=conn).astype(dtype)\n",
    "    df_medicine_with_cnae_and_NOTanvisa = pd.read_sql_query(sql=text(main_query + dict_filters[\"medicine\"][\"cnae&NOTanvisa\"]), con=conn).astype(dtype)\n",
    "    df_medicine_with_NOTcnae_and_anvisa = pd.read_sql_query(sql=text(main_query + dict_filters[\"medicine\"][\"NOTcnae&anvisa\"]), con=conn).astype(dtype)\n",
    "    df_medicine_with_NOTcnae_and_NOTanvisa = pd.read_sql_query(sql=text(main_query + dict_filters[\"medicine\"][\"NOTcnae&NOTanvisa\"]), con=conn).astype(dtype)\n",
    "\n",
    "    df_hospital_material_with_cnae = pd.read_sql_query(sql=text(main_query + dict_filters[\"hospital_material\"][\"cnae\"]), con=conn).astype(dtype)\n",
    "    df_hospital_material_with_NOTcnae = pd.read_sql_query(sql=text(main_query + dict_filters[\"hospital_material\"][\"NOTcnae\"]), con=conn).astype(dtype)\n",
    "\n",
    "    df_others_with_cnae = pd.read_sql_query(sql=text(main_query + dict_filters[\"others\"][\"cnae\"]), con=conn).astype(dtype)\n",
    "    df_others_with_NOTcnae = pd.read_sql_query(sql=text(main_query + dict_filters[\"others\"][\"NOTcnae\"]), con=conn).astype(dtype)"
   ]
  },
  {
   "cell_type": "code",
   "execution_count": 7,
   "metadata": {},
   "outputs": [
    {
     "name": "stdout",
     "output_type": "stream",
     "text": [
      "Medicine with cnae and anvisa -> dataframe shape: (500000, 16)\n",
      "Medicine with cnae and without anvisa -> dataframe shape: (500000, 16)\n",
      "Medicine without cnae and with anvisa -> dataframe shape: (840, 16)\n",
      "Medicine without cnae and anvisa -> dataframe shape: (11688, 16)\n",
      "\n",
      "Hospital material with cnae -> dataframe shape: (500000, 16)\n",
      "Hospital material without cnae -> dataframe shape: (141967, 16)\n",
      "\n",
      "Others with cnae -> dataframe shape: (500000, 16)\n",
      "Others without cnae -> dataframe shape: (500000, 16)\n"
     ]
    }
   ],
   "source": [
    "print(f\"Medicine with cnae and anvisa -> dataframe shape: {df_medicine_with_cnae_and_anvisa.shape}\")\n",
    "print(f\"Medicine with cnae and without anvisa -> dataframe shape: {df_medicine_with_cnae_and_NOTanvisa.shape}\")\n",
    "print(f\"Medicine without cnae and with anvisa -> dataframe shape: {df_medicine_with_NOTcnae_and_anvisa.shape}\")\n",
    "print(f\"Medicine without cnae and anvisa -> dataframe shape: {df_medicine_with_NOTcnae_and_NOTanvisa.shape}\\n\")\n",
    "\n",
    "print(f\"Hospital material with cnae -> dataframe shape: {df_hospital_material_with_cnae.shape}\")\n",
    "print(f\"Hospital material without cnae -> dataframe shape: {df_hospital_material_with_NOTcnae.shape}\\n\")\n",
    "\n",
    "print(f\"Others with cnae -> dataframe shape: {df_others_with_cnae.shape}\")\n",
    "print(f\"Others without cnae -> dataframe shape: {df_others_with_NOTcnae.shape}\")"
   ]
  },
  {
   "attachments": {},
   "cell_type": "markdown",
   "metadata": {},
   "source": [
    "## Getting differents CNPJs samples"
   ]
  },
  {
   "cell_type": "code",
   "execution_count": 8,
   "metadata": {},
   "outputs": [],
   "source": [
    "def get_products_from_all_cnpjs(df: pd.DataFrame, limit: int) -> pd.DataFrame:\n",
    "    \"\"\"Get first product from all cnpjs, then second, then third ...\n",
    "    Return DataFrame with the indicated limit.\"\"\"\n",
    "    if df.shape[0] <= limit:\n",
    "        return df\n",
    "    else:\n",
    "        cnpjs = df[\"cnpj\"].unique() # return a list with unique values\n",
    "        indexes = []\n",
    "        count = 0\n",
    "        b = True\n",
    "        while b:\n",
    "            for cnpj in cnpjs:\n",
    "                i = df.loc[df[\"cnpj\"] == cnpj].index # get all row indexes from cnpj\n",
    "                if count < len(i): # if is in range for that cnpj then append / evoide index error\n",
    "                    indexes.append(i[count]) # get first product from cnpj, then second, then third ...\n",
    "\n",
    "                if len(indexes) == limit: # end loops when hit determined limit of rows\n",
    "                    b = False # break while loop after for loop\n",
    "                    break # break for loop\n",
    "            count += 1\n",
    "\n",
    "        return df.loc[df.index[indexes]]"
   ]
  },
  {
   "cell_type": "code",
   "execution_count": 9,
   "metadata": {},
   "outputs": [
    {
     "name": "stdout",
     "output_type": "stream",
     "text": [
      "Medicine with cnae and anvisa shape after filter from cnpjs: (2500, 16)\n",
      "Medicine with cnae and without anvisa shape after filter from cnpjs: (4194, 16)\n",
      "Medicine without cnae and with anvisa shape after filter from cnpjs: (840, 16)\n",
      "Medicine without cnae and anvisa shape after filter from cnpjs: (2500, 16)\n",
      "\n",
      "Hospital material with cnae shape after filter from cnpjs: (5000, 16)\n",
      "Hospital material without cnae shape after filter from cnpjs: (5000, 16)\n",
      "\n",
      "Others with cnae shape after filter from cnpjs: (5000, 16)\n",
      "Others without cnae shape after filter from cnpjs: (5000, 16)\n"
     ]
    }
   ],
   "source": [
    "df_medicine_with_cnae_and_anvisa = get_products_from_all_cnpjs(df_medicine_with_cnae_and_anvisa, 2500)\n",
    "print(f\"Medicine with cnae and anvisa shape after filter from cnpjs: {df_medicine_with_cnae_and_anvisa.shape}\")\n",
    "df_medicine_with_cnae_and_NOTanvisa = get_products_from_all_cnpjs(df_medicine_with_cnae_and_NOTanvisa, 4194)\n",
    "print(f\"Medicine with cnae and without anvisa shape after filter from cnpjs: {df_medicine_with_cnae_and_NOTanvisa.shape}\")\n",
    "df_medicine_with_NOTcnae_and_anvisa = get_products_from_all_cnpjs(df_medicine_with_NOTcnae_and_anvisa, 2500)\n",
    "print(f\"Medicine without cnae and with anvisa shape after filter from cnpjs: {df_medicine_with_NOTcnae_and_anvisa.shape}\")\n",
    "df_medicine_with_NOTcnae_and_NOTanvisa = get_products_from_all_cnpjs(df_medicine_with_NOTcnae_and_NOTanvisa, 2500)\n",
    "print(f\"Medicine without cnae and anvisa shape after filter from cnpjs: {df_medicine_with_NOTcnae_and_NOTanvisa.shape}\\n\")\n",
    "\n",
    "df_hospital_material_with_cnae = get_products_from_all_cnpjs(df_hospital_material_with_cnae, 5000)\n",
    "print(f\"Hospital material with cnae shape after filter from cnpjs: {df_hospital_material_with_cnae.shape}\")\n",
    "df_hospital_material_with_NOTcnae = get_products_from_all_cnpjs(df_hospital_material_with_NOTcnae, 5000)\n",
    "print(f\"Hospital material without cnae shape after filter from cnpjs: {df_hospital_material_with_NOTcnae.shape}\\n\")\n",
    "\n",
    "df_others_with_cnae = get_products_from_all_cnpjs(df_others_with_cnae, 5000)\n",
    "print(f\"Others with cnae shape after filter from cnpjs: {df_others_with_cnae.shape}\")\n",
    "df_others_with_NOTcnae = get_products_from_all_cnpjs(df_others_with_NOTcnae, 5000)\n",
    "print(f\"Others without cnae shape after filter from cnpjs: {df_others_with_NOTcnae.shape}\")"
   ]
  },
  {
   "cell_type": "code",
   "execution_count": 10,
   "metadata": {},
   "outputs": [
    {
     "data": {
      "text/plain": [
       "(20, 57)"
      ]
     },
     "execution_count": 10,
     "metadata": {},
     "output_type": "execute_result"
    }
   ],
   "source": [
    "len(df_medicine_with_cnae_and_anvisa[\"cnae_fiscal\"].unique()), len(df_medicine_with_cnae_and_NOTanvisa[\"cnae_fiscal\"].unique())"
   ]
  },
  {
   "attachments": {},
   "cell_type": "markdown",
   "metadata": {},
   "source": [
    "## Saving data"
   ]
  },
  {
   "attachments": {},
   "cell_type": "markdown",
   "metadata": {},
   "source": [
    "* 0 -> Medicine;\n",
    "* 1 -> Hospital Material;\n",
    "* 2 -> Others."
   ]
  },
  {
   "cell_type": "code",
   "execution_count": 11,
   "metadata": {},
   "outputs": [],
   "source": [
    "df_medicine_with_cnae_and_anvisa[\"tipo_produto\"] = 0\n",
    "df_medicine_with_cnae_and_NOTanvisa[\"tipo_produto\"] = 0\n",
    "df_medicine_with_NOTcnae_and_anvisa[\"tipo_produto\"] = 0\n",
    "df_medicine_with_NOTcnae_and_NOTanvisa[\"tipo_produto\"] = 0\n",
    "\n",
    "df_hospital_material_with_cnae[\"tipo_produto\"] = 1\n",
    "df_hospital_material_with_NOTcnae[\"tipo_produto\"] = 1\n",
    "\n",
    "df_others_with_cnae[\"tipo_produto\"] = 2\n",
    "df_others_with_NOTcnae[\"tipo_produto\"] = 2"
   ]
  },
  {
   "cell_type": "code",
   "execution_count": 12,
   "metadata": {},
   "outputs": [
    {
     "name": "stdout",
     "output_type": "stream",
     "text": [
      "Shape full DataFrame: (30034, 17)\n"
     ]
    }
   ],
   "source": [
    "df_merged = pd.concat([df_medicine_with_cnae_and_anvisa, df_medicine_with_cnae_and_NOTanvisa, df_medicine_with_NOTcnae_and_anvisa, df_medicine_with_NOTcnae_and_NOTanvisa, \\\n",
    "                    df_hospital_material_with_cnae, df_hospital_material_with_NOTcnae, df_others_with_cnae, df_others_with_NOTcnae], ignore_index=True, axis=0).drop_duplicates()\n",
    "                                                                                                                                            # axis=0 for concatenate rows\n",
    "print(f\"Shape full DataFrame: {df_merged.shape}\")"
   ]
  },
  {
   "cell_type": "code",
   "execution_count": 13,
   "metadata": {},
   "outputs": [
    {
     "data": {
      "text/plain": [
       "id_produto                         0\n",
       "codigo_cfop                        0\n",
       "codigo_cest                    18209\n",
       "codigo_ncm                        23\n",
       "codigo_ean                      3496\n",
       "descricao                          0\n",
       "unidade                            0\n",
       "id_medicamento                     0\n",
       "cod_anvisa                     26424\n",
       "id_combustivel                     0\n",
       "codigo_anp                     29483\n",
       "cnpj                               0\n",
       "razao_social                       0\n",
       "nome_da_atividade_economica       56\n",
       "cnae_fiscal                        0\n",
       "cnae_secundaria                    0\n",
       "tipo_produto                       0\n",
       "dtype: int64"
      ]
     },
     "execution_count": 13,
     "metadata": {},
     "output_type": "execute_result"
    }
   ],
   "source": [
    "df_merged.isnull().sum() # show number of null values in each column"
   ]
  },
  {
   "cell_type": "code",
   "execution_count": 14,
   "metadata": {},
   "outputs": [
    {
     "data": {
      "text/plain": [
       "id_produto                      int32\n",
       "codigo_cfop                    string\n",
       "codigo_cest                    string\n",
       "codigo_ncm                     string\n",
       "codigo_ean                     string\n",
       "descricao                      string\n",
       "unidade                        string\n",
       "id_medicamento                  int32\n",
       "cod_anvisa                     string\n",
       "id_combustivel                  int32\n",
       "codigo_anp                     string\n",
       "cnpj                           string\n",
       "razao_social                   string\n",
       "nome_da_atividade_economica    string\n",
       "cnae_fiscal                     int32\n",
       "cnae_secundaria                string\n",
       "tipo_produto                    int64\n",
       "dtype: object"
      ]
     },
     "execution_count": 14,
     "metadata": {},
     "output_type": "execute_result"
    }
   ],
   "source": [
    "df_merged.dtypes # show data type of each column"
   ]
  },
  {
   "cell_type": "code",
   "execution_count": 15,
   "metadata": {},
   "outputs": [],
   "source": [
    "df_merged = df_merged.sort_values(by=[\"id_produto\"], ascending=True) # order by id_produto asc\n",
    "df_merged.to_csv(\"data.csv\", sep=\";\", index=False)"
   ]
  }
 ],
 "metadata": {
  "kernelspec": {
   "display_name": "Python 3",
   "language": "python",
   "name": "python3"
  },
  "language_info": {
   "codemirror_mode": {
    "name": "ipython",
    "version": 3
   },
   "file_extension": ".py",
   "mimetype": "text/x-python",
   "name": "python",
   "nbconvert_exporter": "python",
   "pygments_lexer": "ipython3",
   "version": "3.9.0"
  },
  "orig_nbformat": 4,
  "vscode": {
   "interpreter": {
    "hash": "81794d4967e6c3204c66dcd87b604927b115b27c00565d3d43f05ba2f3a2cb0d"
   }
  }
 },
 "nbformat": 4,
 "nbformat_minor": 2
}
