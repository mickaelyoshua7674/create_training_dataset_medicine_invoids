{
 "cells": [
  {
   "cell_type": "code",
   "execution_count": 1,
   "metadata": {},
   "outputs": [],
   "source": [
    "import pandas as pd"
   ]
  },
  {
   "cell_type": "code",
   "execution_count": 2,
   "metadata": {},
   "outputs": [],
   "source": [
    "dtype = {\n",
    "    \"id_produto\" : \"int32\",\n",
    "    \"codigo_cfop\" : \"string\",\n",
    "    \"codigo_cest\" : \"string\",\n",
    "    \"codigo_ncm\" : \"string\",\n",
    "    \"codigo_ean\" : \"string\",\n",
    "    \"descricao\" : \"string\",\n",
    "    \"unidade\" : \"string\",\n",
    "    \"id_medicamento\" : \"int32\",\n",
    "    \"cod_anvisa\" : \"string\",\n",
    "    \"id_combustivel\" : \"int32\",\n",
    "    \"codigo_anp\" : \"string\",\n",
    "    \"cnpj\" : \"string\",\n",
    "    \"razao_social\" : \"string\",\n",
    "    \"nome_da_atividade_economica\" : \"string\",\n",
    "    \"cnae_fiscal\" : \"int32\",\n",
    "    \"cnae_secundaria\" : \"string\",\n",
    "    \"tipo_produto\" : \"int32\"\n",
    "}"
   ]
  },
  {
   "cell_type": "code",
   "execution_count": 3,
   "metadata": {},
   "outputs": [
    {
     "data": {
      "text/html": [
       "<div>\n",
       "<style scoped>\n",
       "    .dataframe tbody tr th:only-of-type {\n",
       "        vertical-align: middle;\n",
       "    }\n",
       "\n",
       "    .dataframe tbody tr th {\n",
       "        vertical-align: top;\n",
       "    }\n",
       "\n",
       "    .dataframe thead th {\n",
       "        text-align: right;\n",
       "    }\n",
       "</style>\n",
       "<table border=\"1\" class=\"dataframe\">\n",
       "  <thead>\n",
       "    <tr style=\"text-align: right;\">\n",
       "      <th></th>\n",
       "      <th>id_produto</th>\n",
       "      <th>codigo_cfop</th>\n",
       "      <th>codigo_cest</th>\n",
       "      <th>codigo_ncm</th>\n",
       "      <th>codigo_ean</th>\n",
       "      <th>descricao</th>\n",
       "      <th>unidade</th>\n",
       "      <th>id_medicamento</th>\n",
       "      <th>cod_anvisa</th>\n",
       "      <th>id_combustivel</th>\n",
       "      <th>codigo_anp</th>\n",
       "      <th>cnpj</th>\n",
       "      <th>razao_social</th>\n",
       "      <th>nome_da_atividade_economica</th>\n",
       "      <th>cnae_fiscal</th>\n",
       "      <th>cnae_secundaria</th>\n",
       "      <th>tipo_produto</th>\n",
       "    </tr>\n",
       "  </thead>\n",
       "  <tbody>\n",
       "    <tr>\n",
       "      <th>0</th>\n",
       "      <td>5</td>\n",
       "      <td>6119</td>\n",
       "      <td>&lt;NA&gt;</td>\n",
       "      <td>29419099.0</td>\n",
       "      <td>SEM GTIN</td>\n",
       "      <td>RACK FIXO P/ TRANPORTE DE 3 CORPOS</td>\n",
       "      <td>UN</td>\n",
       "      <td>-1</td>\n",
       "      <td>&lt;NA&gt;</td>\n",
       "      <td>-1</td>\n",
       "      <td>&lt;NA&gt;</td>\n",
       "      <td>23453900000000</td>\n",
       "      <td>M. F. A. AGUIAR</td>\n",
       "      <td>Com?rcio atacadista de instrumentos e materiai...</td>\n",
       "      <td>4645101</td>\n",
       "      <td>3319800,3321000,3329599,4511105,4530703,461920...</td>\n",
       "      <td>2</td>\n",
       "    </tr>\n",
       "    <tr>\n",
       "      <th>1</th>\n",
       "      <td>13</td>\n",
       "      <td>5929</td>\n",
       "      <td>1300100.0</td>\n",
       "      <td>30049099.0</td>\n",
       "      <td>7896660000000</td>\n",
       "      <td>DUAL 30MG 30CAPS LIB RETARD</td>\n",
       "      <td>UN</td>\n",
       "      <td>1</td>\n",
       "      <td>1057300000000</td>\n",
       "      <td>-1</td>\n",
       "      <td>&lt;NA&gt;</td>\n",
       "      <td>958548000000</td>\n",
       "      <td>DROGARIA DROGAVISTA LTDA</td>\n",
       "      <td>Com?rcio varejista de produtos farmac?uticos, ...</td>\n",
       "      <td>4771701</td>\n",
       "      <td>4729602,4772500,4773300,5320202,8291100,863050...</td>\n",
       "      <td>0</td>\n",
       "    </tr>\n",
       "    <tr>\n",
       "      <th>2</th>\n",
       "      <td>14</td>\n",
       "      <td>5929</td>\n",
       "      <td>1300100.0</td>\n",
       "      <td>30049099.0</td>\n",
       "      <td>7896260000000</td>\n",
       "      <td>EXFORGE HCT 160 MG 12 5 MG 10 MG X 28</td>\n",
       "      <td>UN</td>\n",
       "      <td>2</td>\n",
       "      <td>1006810000000</td>\n",
       "      <td>-1</td>\n",
       "      <td>&lt;NA&gt;</td>\n",
       "      <td>958548000000</td>\n",
       "      <td>DROGARIA DROGAVISTA LTDA</td>\n",
       "      <td>Com?rcio varejista de produtos farmac?uticos, ...</td>\n",
       "      <td>4771701</td>\n",
       "      <td>4729602,4772500,4773300,5320202,8291100,863050...</td>\n",
       "      <td>0</td>\n",
       "    </tr>\n",
       "    <tr>\n",
       "      <th>3</th>\n",
       "      <td>60</td>\n",
       "      <td>5102</td>\n",
       "      <td>&lt;NA&gt;</td>\n",
       "      <td>2012090.0</td>\n",
       "      <td>SEM GTIN</td>\n",
       "      <td>CARNE BOVINA DE SOL PRIMEIRA (CHA DE DENTRO, C...</td>\n",
       "      <td>KG</td>\n",
       "      <td>-1</td>\n",
       "      <td>&lt;NA&gt;</td>\n",
       "      <td>-1</td>\n",
       "      <td>&lt;NA&gt;</td>\n",
       "      <td>36029800000000</td>\n",
       "      <td>MARIA MARCOLINA DOS SANTOS ALVES 40826589472</td>\n",
       "      <td>Com?rcio varejista de carnes - a?ougues</td>\n",
       "      <td>4722901</td>\n",
       "      <td>4721103,4712100,4724500</td>\n",
       "      <td>2</td>\n",
       "    </tr>\n",
       "    <tr>\n",
       "      <th>4</th>\n",
       "      <td>71</td>\n",
       "      <td>5102</td>\n",
       "      <td>&lt;NA&gt;</td>\n",
       "      <td>84137010.0</td>\n",
       "      <td>SEM GTIN</td>\n",
       "      <td>ELETR. SUBM. SCHN 1CV MONO SUB25 NYLON</td>\n",
       "      <td>UN</td>\n",
       "      <td>-1</td>\n",
       "      <td>&lt;NA&gt;</td>\n",
       "      <td>-1</td>\n",
       "      <td>&lt;NA&gt;</td>\n",
       "      <td>41136700000000</td>\n",
       "      <td>RAMOS &amp; MACEDO &amp; CIA LTDA</td>\n",
       "      <td>Com?rcio atacadista de m?quinas, aparelhos e e...</td>\n",
       "      <td>4661300</td>\n",
       "      <td>3314713,4744099,4789004,5320202</td>\n",
       "      <td>2</td>\n",
       "    </tr>\n",
       "  </tbody>\n",
       "</table>\n",
       "</div>"
      ],
      "text/plain": [
       "   id_produto codigo_cfop codigo_cest  codigo_ncm     codigo_ean  \\\n",
       "0           5        6119        <NA>  29419099.0       SEM GTIN   \n",
       "1          13        5929   1300100.0  30049099.0  7896660000000   \n",
       "2          14        5929   1300100.0  30049099.0  7896260000000   \n",
       "3          60        5102        <NA>   2012090.0       SEM GTIN   \n",
       "4          71        5102        <NA>  84137010.0       SEM GTIN   \n",
       "\n",
       "                                           descricao unidade  id_medicamento  \\\n",
       "0                 RACK FIXO P/ TRANPORTE DE 3 CORPOS      UN              -1   \n",
       "1                        DUAL 30MG 30CAPS LIB RETARD      UN               1   \n",
       "2              EXFORGE HCT 160 MG 12 5 MG 10 MG X 28      UN               2   \n",
       "3  CARNE BOVINA DE SOL PRIMEIRA (CHA DE DENTRO, C...      KG              -1   \n",
       "4             ELETR. SUBM. SCHN 1CV MONO SUB25 NYLON      UN              -1   \n",
       "\n",
       "      cod_anvisa  id_combustivel codigo_anp            cnpj  \\\n",
       "0           <NA>              -1       <NA>  23453900000000   \n",
       "1  1057300000000              -1       <NA>    958548000000   \n",
       "2  1006810000000              -1       <NA>    958548000000   \n",
       "3           <NA>              -1       <NA>  36029800000000   \n",
       "4           <NA>              -1       <NA>  41136700000000   \n",
       "\n",
       "                                   razao_social  \\\n",
       "0                               M. F. A. AGUIAR   \n",
       "1                      DROGARIA DROGAVISTA LTDA   \n",
       "2                      DROGARIA DROGAVISTA LTDA   \n",
       "3  MARIA MARCOLINA DOS SANTOS ALVES 40826589472   \n",
       "4                     RAMOS & MACEDO & CIA LTDA   \n",
       "\n",
       "                         nome_da_atividade_economica  cnae_fiscal  \\\n",
       "0  Com?rcio atacadista de instrumentos e materiai...      4645101   \n",
       "1  Com?rcio varejista de produtos farmac?uticos, ...      4771701   \n",
       "2  Com?rcio varejista de produtos farmac?uticos, ...      4771701   \n",
       "3            Com?rcio varejista de carnes - a?ougues      4722901   \n",
       "4  Com?rcio atacadista de m?quinas, aparelhos e e...      4661300   \n",
       "\n",
       "                                     cnae_secundaria  tipo_produto  \n",
       "0  3319800,3321000,3329599,4511105,4530703,461920...             2  \n",
       "1  4729602,4772500,4773300,5320202,8291100,863050...             0  \n",
       "2  4729602,4772500,4773300,5320202,8291100,863050...             0  \n",
       "3                            4721103,4712100,4724500             2  \n",
       "4                    3314713,4744099,4789004,5320202             2  "
      ]
     },
     "execution_count": 3,
     "metadata": {},
     "output_type": "execute_result"
    }
   ],
   "source": [
    "df = pd.read_excel(\"data_after_manual_checkout.xlsx\").astype(dtype)\n",
    "df.head()"
   ]
  },
  {
   "cell_type": "code",
   "execution_count": 4,
   "metadata": {},
   "outputs": [
    {
     "data": {
      "text/plain": [
       "id_produto                         0\n",
       "codigo_cfop                        0\n",
       "codigo_cest                    18140\n",
       "codigo_ncm                        16\n",
       "codigo_ean                      3531\n",
       "descricao                          0\n",
       "unidade                            0\n",
       "id_medicamento                     0\n",
       "cod_anvisa                     25888\n",
       "id_combustivel                     0\n",
       "codigo_anp                     29286\n",
       "cnpj                               0\n",
       "razao_social                       0\n",
       "nome_da_atividade_economica       58\n",
       "cnae_fiscal                        0\n",
       "cnae_secundaria                 5003\n",
       "tipo_produto                       0\n",
       "dtype: int64"
      ]
     },
     "execution_count": 4,
     "metadata": {},
     "output_type": "execute_result"
    }
   ],
   "source": [
    "df.isnull().sum()"
   ]
  },
  {
   "cell_type": "code",
   "execution_count": 5,
   "metadata": {},
   "outputs": [
    {
     "data": {
      "text/plain": [
       "(29455, 17)"
      ]
     },
     "execution_count": 5,
     "metadata": {},
     "output_type": "execute_result"
    }
   ],
   "source": [
    "df.shape"
   ]
  },
  {
   "cell_type": "code",
   "execution_count": 6,
   "metadata": {},
   "outputs": [
    {
     "data": {
      "text/plain": [
       "id_produto                      int32\n",
       "codigo_cfop                    string\n",
       "codigo_cest                    string\n",
       "codigo_ncm                     string\n",
       "codigo_ean                     string\n",
       "descricao                      string\n",
       "unidade                        string\n",
       "id_medicamento                  int32\n",
       "cod_anvisa                     string\n",
       "id_combustivel                  int32\n",
       "codigo_anp                     string\n",
       "cnpj                           string\n",
       "razao_social                   string\n",
       "nome_da_atividade_economica    string\n",
       "cnae_fiscal                     int32\n",
       "cnae_secundaria                string\n",
       "tipo_produto                    int32\n",
       "dtype: object"
      ]
     },
     "execution_count": 6,
     "metadata": {},
     "output_type": "execute_result"
    }
   ],
   "source": [
    "df.dtypes"
   ]
  },
  {
   "cell_type": "code",
   "execution_count": 7,
   "metadata": {},
   "outputs": [],
   "source": [
    "df.to_csv(\"final_data.csv\", index=False)"
   ]
  }
 ],
 "metadata": {
  "kernelspec": {
   "display_name": "Python 3",
   "language": "python",
   "name": "python3"
  },
  "language_info": {
   "codemirror_mode": {
    "name": "ipython",
    "version": 3
   },
   "file_extension": ".py",
   "mimetype": "text/x-python",
   "name": "python",
   "nbconvert_exporter": "python",
   "pygments_lexer": "ipython3",
   "version": "3.9.0"
  },
  "orig_nbformat": 4
 },
 "nbformat": 4,
 "nbformat_minor": 2
}
